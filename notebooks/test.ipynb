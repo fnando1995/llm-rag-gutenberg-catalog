{
 "cells": [
  {
   "cell_type": "code",
   "execution_count": 1,
   "metadata": {},
   "outputs": [],
   "source": [
    "# # Load model directly\n",
    "# from transformers import AutoTokenizer, AutoModelForSeq2SeqLM\n",
    "\n",
    "# tokenizer = AutoTokenizer.from_pretrained(\"pszemraj/led-base-book-summary\")\n",
    "# model = AutoModelForSeq2SeqLM.from_pretrained(\"pszemraj/led-base-book-summary\")"
   ]
  },
  {
   "cell_type": "code",
   "execution_count": 2,
   "metadata": {},
   "outputs": [],
   "source": [
    "from rag import *"
   ]
  },
  {
   "cell_type": "code",
   "execution_count": 3,
   "metadata": {},
   "outputs": [],
   "source": [
    "prompt_template = \"\"\"\n",
    "You are a great book summarizer. Below is a context followed by a question. The context is about a book. Please provide a detailed and accurate summarization based on the context for the question.\n",
    "\n",
    "Context:\n",
    "{context}\n",
    "\n",
    "Question:\n",
    "{question}\n",
    "\n",
    "Answer:\n",
    "\"\"\"\n",
    "prompt = PromptTemplate(\n",
    "    input_variables=[\"context\", \"question\"],\n",
    "    template=prompt_template\n",
    ")"
   ]
  },
  {
   "cell_type": "code",
   "execution_count": 5,
   "metadata": {},
   "outputs": [
    {
     "name": "stderr",
     "output_type": "stream",
     "text": [
      "No sentence-transformers model found with name fnando1995/t5-small-ft-bookSum. Creating a new one with mean pooling.\n"
     ]
    }
   ],
   "source": [
    "rag=RAGT5(\n",
    "    'fnando1995/t5-small-ft-bookSum'\n",
    "    , 'pgc_dataset'\n",
    "    , '20240728173212_processed'\n",
    "    , prompt, load_db_from_disk=True\n",
    ")"
   ]
  },
  {
   "cell_type": "code",
   "execution_count": 6,
   "metadata": {},
   "outputs": [
    {
     "data": {
      "text/plain": [
       "tensor([[    0,     3,     2,   121,  4350,   121,    10,    96, 23312,  6464,\n",
       "         27814,   204,  1686,    96, 16137,   121,    10,    96,  5948,     7,\n",
       "          1303,  8398,     5, 15917,    15,     5,  1677,    87,  8398, 20173,\n",
       "         15239,  4165,  2915,  4165,  4165,    87,  5948,     7,  1303,  1986,\n",
       "             5,     7,   107,    51,  6631,     5,   287,    87,  8637,    63,\n",
       "            18, 16183,     7,    87, 22973,    15,    87,    51,    23,  8437,\n",
       "            51,  7064,    87,  4078,    51,  1208,    87,  2708,  4278,    18,\n",
       "         22886,  4949,  1686,    96,  4078,    51,  1208,   121,    10,    96,\n",
       "           634,  2625,    19,    81,     3,     9,   484,     5,    37,  2625,\n",
       "            19,    81,     3,     9,   484,     5,    37,  2625,    19,    81,\n",
       "             3,     9,   484,     5,    37,  2625,    19,    81,     3,     9,\n",
       "           484,     5,    37,  2625,    19,    81,     3,     9,   484,     5,\n",
       "            37,  2625,    19,    81,     3,     9,   484,     6,    11,     3,\n",
       "            26,    52,     5,   659,  6259,    19,     3,     9,   248,   484,\n",
       "             5,     3,     2,   121,   634,     3,     2,   121,  1018,  6327,\n",
       "             2]])"
      ]
     },
     "execution_count": 6,
     "metadata": {},
     "output_type": "execute_result"
    }
   ],
   "source": [
    "query_text = \"Summarize the book about the strand magazine, vol. 05, issue 25\"\n",
    "rag.query_rag(query_text)"
   ]
  }
 ],
 "metadata": {
  "kernelspec": {
   "display_name": "env",
   "language": "python",
   "name": "python3"
  },
  "language_info": {
   "codemirror_mode": {
    "name": "ipython",
    "version": 3
   },
   "file_extension": ".py",
   "mimetype": "text/x-python",
   "name": "python",
   "nbconvert_exporter": "python",
   "pygments_lexer": "ipython3",
   "version": "3.10.12"
  }
 },
 "nbformat": 4,
 "nbformat_minor": 2
}
