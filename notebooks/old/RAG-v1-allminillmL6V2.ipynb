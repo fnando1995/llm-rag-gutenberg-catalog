{
 "cells": [
  {
   "cell_type": "code",
   "execution_count": null,
   "metadata": {},
   "outputs": [],
   "source": [
    "import os\n",
    "import numpy as np\n",
    "import pickle\n",
    "from langchain.vectorstores import Chroma\n",
    "from sentence_transformers import SentenceTransformer\n",
    "\n",
    "# Define the CustomEmbeddings class\n",
    "class CustomEmbeddings:\n",
    "    def __init__(self, model_name):\n",
    "        self.model = SentenceTransformer(model_name)\n",
    "\n",
    "    def embed_documents(self, documents):\n",
    "        return self.model.encode(documents, show_progress_bar=True)\n",
    "from datasets import load_dataset\n",
    "\n",
    "# Load the Hugging Face dataset\n",
    "print(\"Loading dataset...\")\n",
    "dataset = load_dataset(\"kmfoda/booksum\", split=\"test\")\n",
    "\n",
    "# Preprocess the text\n",
    "texts = [item['chapter'] for item in dataset if item['chapter']]  # or item['summary_text']\n",
    "# Create the embedding class instance\n",
    "embedding_class = CustomEmbeddings('all-MiniLM-L6-v2')  # Lightweight model for CPU\n",
    "\n",
    "# Create the Chroma vector store from texts\n",
    "print(\"Creating Chroma vector store...\")\n",
    "vector_store = Chroma.from_texts(texts, embedding_class,persist_directory='embeds')\n",
    "\n",
    "retriever = vector_store.as_retriever()"
   ]
  }
 ],
 "metadata": {
  "kernelspec": {
   "display_name": "env",
   "language": "python",
   "name": "python3"
  },
  "language_info": {
   "codemirror_mode": {
    "name": "ipython",
    "version": 3
   },
   "file_extension": ".py",
   "mimetype": "text/x-python",
   "name": "python",
   "nbconvert_exporter": "python",
   "pygments_lexer": "ipython3",
   "version": "3.10.12"
  }
 },
 "nbformat": 4,
 "nbformat_minor": 2
}
