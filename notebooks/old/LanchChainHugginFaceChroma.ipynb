{
 "cells": [
  {
   "cell_type": "code",
   "execution_count": 1,
   "metadata": {},
   "outputs": [],
   "source": [
    "from transformers import AutoTokenizer, AutoModel\n",
    "\n",
    "# Cargar el tokenizador y el modelo de embeddings de Hugging Face\n",
    "model_name = \"sentence-transformers/all-MiniLM-L6-v2\"\n",
    "# tokenizer = AutoTokenizer.from_pretrained(model_name)\n",
    "model = AutoModel.from_pretrained(model_name)"
   ]
  },
  {
   "cell_type": "code",
   "execution_count": 2,
   "metadata": {},
   "outputs": [],
   "source": [
    "import torch\n",
    "\n",
    "prefix = 'summary:'\n",
    "max_input_length = 1024\n",
    "max_target_length = 128\n",
    "\n",
    "# Define the CustomEmbeddings class\n",
    "class CustomEmbeddingsFineTunePGC:\n",
    "    \"\"\"\n",
    "    To work with Chrome Vector Database \n",
    "    \"\"\"\n",
    "    def __init__(self, model_name):\n",
    "        self.tokenizer = AutoTokenizer.from_pretrained(model_name)\n",
    "\n",
    "    def embed_documents(self, texts):\n",
    "        # Tokenizar los textos\n",
    "        inputs = self.tokenizer(texts, return_tensors=\"pt\", padding=True, truncation=True)\n",
    "        # Pasar los tokens por el modelo para obtener los embeddings\n",
    "        with torch.no_grad():\n",
    "            outputs = model(**inputs)\n",
    "        embeddings = outputs.last_hidden_state.mean(dim=1)\n",
    "        return embeddings.tolist()\n",
    "    \n",
    "    def embed_query(self, text):\n",
    "        return self.embed_documents([text])[0]\n",
    "\n",
    "# Define the CustomEmbeddings class\n",
    "class CustomEmbeddingsRagPGC:\n",
    "    \"\"\"\n",
    "    To work with Chrome Vector Database \n",
    "    \"\"\"\n",
    "    def __init__(self, model_name):\n",
    "        self.tokenizer = AutoTokenizer.from_pretrained(model_name)\n",
    "\n",
    "    def embed_documents(self,examples):\n",
    "        inputs = [prefix + '\\n' + bid + ch for bid,ch in zip(examples[\"book_id\"],examples['chapter'])] # This seems to be custom?\n",
    "        # print(inputs)\n",
    "        model_inputs = self.tokenizer(inputs, max_length=max_input_length, truncation=True)\n",
    "\n",
    "        # Setup the tokenizer for targets\n",
    "        labels = self.tokenizer(text_target=examples[\"summary\"], max_length=max_target_length, truncation=True)\n",
    "\n",
    "        model_inputs[\"labels\"] = labels[\"input_ids\"]\n",
    "        return model_inputs\n",
    "    \n",
    "    def embed_query(self, text):\n",
    "        return self.embed_documents([text])[0]\n",
    "    \n",
    "tokCustomEmbeds = CustomEmbeddingsRagPGC(model_name)"
   ]
  },
  {
   "cell_type": "code",
   "execution_count": 3,
   "metadata": {},
   "outputs": [
    {
     "name": "stdout",
     "output_type": "stream",
     "text": [
      "Loading dataset...\n",
      "loaded!\n"
     ]
    }
   ],
   "source": [
    "from datasets import load_dataset\n",
    "print(\"Loading dataset...\")\n",
    "dataset = load_dataset(\"kmfoda/booksum\", split=\"train\")\n",
    "print(\"loaded!\")"
   ]
  },
  {
   "cell_type": "code",
   "execution_count": 4,
   "metadata": {},
   "outputs": [
    {
     "data": {
      "text/plain": [
       "Dataset({\n",
       "    features: ['bid', 'is_aggregate', 'source', 'chapter_path', 'summary_path', 'book_id', 'summary_id', 'content', 'summary', 'chapter', 'chapter_length', 'summary_name', 'summary_url', 'summary_text', 'summary_analysis', 'summary_length', 'analysis_length'],\n",
       "    num_rows: 9600\n",
       "})"
      ]
     },
     "execution_count": 4,
     "metadata": {},
     "output_type": "execute_result"
    }
   ],
   "source": [
    "dataset"
   ]
  },
  {
   "cell_type": "code",
   "execution_count": 5,
   "metadata": {},
   "outputs": [],
   "source": [
    "tokCustomEmbeds.embed_documents(dataset)"
   ]
  },
  {
   "cell_type": "code",
   "execution_count": 18,
   "metadata": {},
   "outputs": [],
   "source": [
    "from langchain_community.vectorstores import Chroma\n",
    "\n",
    "# List[List[float]]\n",
    "# Crear un vector store en Chroma\n",
    "vectorstore = Chroma.from_texts(texts=documents,embedding=tokCustomEmbeds,persist_directory='data-test')\n",
    "\n",
    "\n"
   ]
  },
  {
   "cell_type": "code",
   "execution_count": 19,
   "metadata": {},
   "outputs": [],
   "source": [
    "retriever = vectorstore.as_retriever()"
   ]
  },
  {
   "cell_type": "code",
   "execution_count": 6,
   "metadata": {},
   "outputs": [],
   "source": [
    "# Ejemplo de consulta\n",
    "query = \"¿Cuál es la capital de Francia?\"\n",
    "\n",
    "# Generar el embedding para la consulta\n",
    "query_embedding = tokCustomEmbeds.embed_documents([query])"
   ]
  },
  {
   "cell_type": "code",
   "execution_count": 25,
   "metadata": {},
   "outputs": [
    {
     "data": {
      "text/plain": [
       "[Document(page_content='La capital de Francia es París.')]"
      ]
     },
     "execution_count": 25,
     "metadata": {},
     "output_type": "execute_result"
    }
   ],
   "source": [
    "results = vectorstore.search(query = query, search_type='similarity',k=1)\n",
    "results"
   ]
  },
  {
   "cell_type": "code",
   "execution_count": 23,
   "metadata": {},
   "outputs": [
    {
     "data": {
      "text/plain": [
       "[Document(page_content='La capital de Francia es París.'),\n",
       " Document(page_content='La capital de Francia es París.'),\n",
       " Document(page_content='La capital de Francia es París.'),\n",
       " Document(page_content='El clima hoy es soleado.')]"
      ]
     },
     "execution_count": 23,
     "metadata": {},
     "output_type": "execute_result"
    }
   ],
   "source": [
    "retriever.invoke(query,k=1)"
   ]
  },
  {
   "cell_type": "code",
   "execution_count": null,
   "metadata": {},
   "outputs": [],
   "source": [
    "# vectorstore.add_texts(documents)"
   ]
  },
  {
   "cell_type": "code",
   "execution_count": null,
   "metadata": {},
   "outputs": [],
   "source": [
    "\n",
    "\n",
    "# # Recuperar documentos similares desde Chroma\n",
    "# results = vectorstore.search(embedding=query_embedding.numpy(), top_k=3)\n",
    "\n",
    "# # Mostrar resultados\n",
    "# for result in results:\n",
    "#     print(f\"Texto: {result['text']}, Similaridad: {result['similarity']}\")\n"
   ]
  }
 ],
 "metadata": {
  "kernelspec": {
   "display_name": "env",
   "language": "python",
   "name": "python3"
  },
  "language_info": {
   "codemirror_mode": {
    "name": "ipython",
    "version": 3
   },
   "file_extension": ".py",
   "mimetype": "text/x-python",
   "name": "python",
   "nbconvert_exporter": "python",
   "pygments_lexer": "ipython3",
   "version": "3.10.12"
  }
 },
 "nbformat": 4,
 "nbformat_minor": 2
}
