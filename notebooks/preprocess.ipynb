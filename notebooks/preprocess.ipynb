{
 "cells": [
  {
   "cell_type": "code",
   "execution_count": 39,
   "metadata": {},
   "outputs": [],
   "source": [
    "import os\n",
    "import glob\n",
    "import re\n",
    "\n",
    "\n",
    "directory       = 'pgc_dataset'\n",
    "version         = '20240728173212'\n",
    "split_string    = 'START OF THE PROJECT GUTENBERG EBOOK'.lower()\n",
    "fulldir = os.path.join(directory,version)\n",
    "processes_full_dir = fulldir + '_processed'\n",
    "os.makedirs(processes_full_dir, exist_ok=True)\n"
   ]
  },
  {
   "cell_type": "code",
   "execution_count": 42,
   "metadata": {},
   "outputs": [],
   "source": [
    "def preprocess_text(text, split_string):\n",
    "    # Remove URLs\n",
    "    text = re.sub(r'http\\S+|www\\S+|https\\S+', '', text, flags=re.MULTILINE)\n",
    "    # Remove email addresses\n",
    "    text = re.sub(r'\\S+@\\S+', '', text)\n",
    "    # Remove special characters (except for basic punctuation and spaces)\n",
    "    text = re.sub(r'[^A-Za-z0-9\\s,.!?\\'\\\"]', '', text)\n",
    "    # Remove extra spaces   \n",
    "    text = ' '.join(text.split())\n",
    "    # to lower\n",
    "    text = text.lower()\n",
    "    # every ebook have a preface divided by the text 'split_string'.\n",
    "    text = text.split(split_string)[1]\n",
    "    return text"
   ]
  },
  {
   "cell_type": "code",
   "execution_count": 43,
   "metadata": {},
   "outputs": [],
   "source": [
    "def preprocess_data(fulldir,processes_full_dir,split_string):\n",
    "    for ebook_path in glob.glob(os.path.join(fulldir,'*','*.txt')):\n",
    "        with open(ebook_path,encoding='utf-8') as f:\n",
    "            text = f.read()\n",
    "        p_text = preprocess_text(text,split_string)\n",
    "        new_path = ebook_path.replace(fulldir,processes_full_dir)\n",
    "        os.makedirs(os.path.dirname(new_path), exist_ok=True)\n",
    "        with open(new_path,'w',encoding='utf-8') as f:\n",
    "            f.write(p_text)"
   ]
  },
  {
   "cell_type": "code",
   "execution_count": 44,
   "metadata": {},
   "outputs": [],
   "source": [
    "preprocess_data(fulldir,processes_full_dir,split_string)"
   ]
  },
  {
   "cell_type": "code",
   "execution_count": null,
   "metadata": {},
   "outputs": [],
   "source": []
  }
 ],
 "metadata": {
  "kernelspec": {
   "display_name": "llm-venv",
   "language": "python",
   "name": "python3"
  },
  "language_info": {
   "codemirror_mode": {
    "name": "ipython",
    "version": 3
   },
   "file_extension": ".py",
   "mimetype": "text/x-python",
   "name": "python",
   "nbconvert_exporter": "python",
   "pygments_lexer": "ipython3",
   "version": "3.12.4"
  }
 },
 "nbformat": 4,
 "nbformat_minor": 2
}
