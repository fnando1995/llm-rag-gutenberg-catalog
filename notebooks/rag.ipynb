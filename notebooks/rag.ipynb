{
 "cells": [
  {
   "cell_type": "code",
   "execution_count": 32,
   "metadata": {},
   "outputs": [],
   "source": [
    "# Load args\n",
    "model_name = 'LegolasTheElf/Long-T5-Booksum'\n",
    "from transformers import AutoTokenizer, AutoModelForSeq2SeqLM\n",
    "tokenizer       = AutoTokenizer.from_pretrained(model_name)\n",
    "model           = AutoModelForSeq2SeqLM.from_pretrained(model_name)"
   ]
  },
  {
   "cell_type": "code",
   "execution_count": 2,
   "metadata": {},
   "outputs": [
    {
     "name": "stderr",
     "output_type": "stream",
     "text": [
      "/media/emmanuelmoran/Emmanuel/lumenalta/llm-assessment/llm-assessment/env/lib/python3.10/site-packages/sentence_transformers/cross_encoder/CrossEncoder.py:11: TqdmExperimentalWarning: Using `tqdm.autonotebook.tqdm` in notebook mode. Use `tqdm.tqdm` instead to force console mode (e.g. in jupyter console)\n",
      "  from tqdm.autonotebook import tqdm, trange\n",
      "No sentence-transformers model found with name fnando1995/t5-small-ft-bookSum. Creating a new one with mean pooling.\n"
     ]
    }
   ],
   "source": [
    "# Load vectordatabase\n",
    "from langchain_huggingface import HuggingFaceEmbeddings\n",
    "from langchain_chroma import Chroma\n",
    "from langchain_huggingface import HuggingFaceEmbeddings\n",
    "from pcg_loader import Loader\n",
    "from langchain.text_splitter import RecursiveCharacterTextSplitter\n",
    "\n",
    "if load_database:\n",
    "    vectordb = Chroma(persist_directory=os.path.join(directory,version),\n",
    "                  embedding_function=HuggingFaceEmbeddings(model_name=model_name))\n",
    "else:\n",
    "    docs = Loader(directory=directory,version=version).load()\n",
    "    text_splitter = RecursiveCharacterTextSplitter(chunk_size=1000, chunk_overlap=200)\n",
    "    splits = text_splitter.split_documents(docs)\n",
    "    vectordb = Chroma.from_documents(persist_directory=os.path.join(directory,version),\n",
    "                                        documents=splits, \n",
    "                                        embedding=HuggingFaceEmbeddings(model_name=model_name))\n",
    "\n"
   ]
  },
  {
   "cell_type": "code",
   "execution_count": 40,
   "metadata": {},
   "outputs": [],
   "source": [
    "# Query\n",
    "# query_text = \"Summarize the book about incidents in the life of a slave girl\"\n",
    "\n",
    "query_text = \"Summarize the book about the strand magazine, vol. 05, issue 25\""
   ]
  },
  {
   "cell_type": "code",
   "execution_count": 41,
   "metadata": {},
   "outputs": [
    {
     "data": {
      "text/plain": [
       "[Document(page_content='the strand magazine, vol. 05, issue 28, april 1893 produced by jonathan ingram, janet blenkinship and the online distributed proofreading team at the strand an illustrated monthly vol. 5, issue. 28. april 1893 illustration sandringham from a photo. by bedford lemere. the prince of wales at sandringham. the prince of wales is, of course, precluded by his position from granting interviews like private persons, but his royal highness has been so good as to give us special permission to insert the following extremely interesting article, which we are happy to be able to present to our readers in place of the illustrated interview for the present month. the next of the series of illustrated interviews, by mr. harry how, will appear next month. sir robert rawlinson, the celebrated engineer, whose work saved so many lives in the crimea, has given mr. how a most interesting interview, with special illustrations. \"far from the busy haunt of man\" might be fitly applied to sandringham so quiet,'),\n",
       " Document(page_content='and generous character.\" as regards the curious question suggested by the ms. discrepancies in the last three chapters of the epistle to the romansnamely, whether the epistle was sent to the romans alonemr. sanday follows dr. lightfoot in believing that its original form was such as we now have it, with the exception of the last three verses, and that these formed an appendix, added on at the end of chapter xiv., when, during his captivity at rome, st. paul converted the earlier part into a circular epistle. the interesting view of m. renan, who believes it to have been originally a circular epistle, and takes the four endings xv. 33, and xvi. 20, 24 and 27 as the endings of the copies addressed respectively to the churches of rome, asia, macedonia, and some other unknown, is rather too curtly discussed with the remark that it fails when applied in detail. there is one more serious omission in this part of the commentary. though honourable mention is made of the commentaries of dr.'),\n",
       " Document(page_content='the baptist magazine, vol. 27, 1835 produced by bryan ness, charlene taylor and the online distributed proofreading team at this book was produced from scanned images of public domain material from the google print project. transcriber\\'s note due to the number of tables, this file reads better in a monospaced font. the baptist magazine. may, 1835. memoir of the late rev. r. morrison, d.d., c. missionary to the chinese empire. by an intimate friend of the deceased.a footnote a a sermon has just been published, entitled, \"a voice from china a discourse, delivered at new windsor chapel, salford, on sunday, february 11, 1835, to improve the lamented death of the rev. robert morrison, d.d., f.r.s., c., c. with a sketch of his character and labours, principally compiled from his own correspondence. by john clunie, ll.d.\" of this discourse we are happy to avail ourselves, for the purpose of presenting our readers with a brief memorial of this distinguished servant of christ still referring'),\n",
       " Document(page_content='the strand magazine, vol. 05, issue 29, may 1893 produced by victorianedwardian pictorial magazines, jonathan ingram, josephine paolucci and the online distributed proofreading team at the strand magazine an illustrated monthly vol. 5, issue. 29. may 1893 illustration \"excuse our intrusion, madam.\" in the shadow of the sierras. in the shadow of the sierras by iza duffus hardy. barbara thorne sat leaning her head on her hand, looking at a photograph that lay on the table beneath her eyes. she had not intended to look for that when she pulled out a dusty drawer full of old letters, papers, and accountbooks to arrange and set in order. but when in the course of her rummaging and tidying she found that picture in her hand, she paused in her task. the neglected drawer stood open, with its dusty packets and rolls of faded papers. barbara had forgotten it and all else around her. she sat there lost in memory, her eyes fixed upon the \"counterfeit presentment\" of the face that once had been')]"
      ]
     },
     "execution_count": 41,
     "metadata": {},
     "output_type": "execute_result"
    }
   ],
   "source": [
    "# Retrieve using retriever\n",
    "retriever = vectordb.as_retriever()\n",
    "retriever.invoke(query_text)"
   ]
  },
  {
   "cell_type": "code",
   "execution_count": 42,
   "metadata": {},
   "outputs": [
    {
     "data": {
      "text/plain": [
       "[Document(page_content='the strand magazine, vol. 05, issue 28, april 1893 produced by jonathan ingram, janet blenkinship and the online distributed proofreading team at the strand an illustrated monthly vol. 5, issue. 28. april 1893 illustration sandringham from a photo. by bedford lemere. the prince of wales at sandringham. the prince of wales is, of course, precluded by his position from granting interviews like private persons, but his royal highness has been so good as to give us special permission to insert the following extremely interesting article, which we are happy to be able to present to our readers in place of the illustrated interview for the present month. the next of the series of illustrated interviews, by mr. harry how, will appear next month. sir robert rawlinson, the celebrated engineer, whose work saved so many lives in the crimea, has given mr. how a most interesting interview, with special illustrations. \"far from the busy haunt of man\" might be fitly applied to sandringham so quiet,'),\n",
       " Document(page_content='and generous character.\" as regards the curious question suggested by the ms. discrepancies in the last three chapters of the epistle to the romansnamely, whether the epistle was sent to the romans alonemr. sanday follows dr. lightfoot in believing that its original form was such as we now have it, with the exception of the last three verses, and that these formed an appendix, added on at the end of chapter xiv., when, during his captivity at rome, st. paul converted the earlier part into a circular epistle. the interesting view of m. renan, who believes it to have been originally a circular epistle, and takes the four endings xv. 33, and xvi. 20, 24 and 27 as the endings of the copies addressed respectively to the churches of rome, asia, macedonia, and some other unknown, is rather too curtly discussed with the remark that it fails when applied in detail. there is one more serious omission in this part of the commentary. though honourable mention is made of the commentaries of dr.'),\n",
       " Document(page_content='the baptist magazine, vol. 27, 1835 produced by bryan ness, charlene taylor and the online distributed proofreading team at this book was produced from scanned images of public domain material from the google print project. transcriber\\'s note due to the number of tables, this file reads better in a monospaced font. the baptist magazine. may, 1835. memoir of the late rev. r. morrison, d.d., c. missionary to the chinese empire. by an intimate friend of the deceased.a footnote a a sermon has just been published, entitled, \"a voice from china a discourse, delivered at new windsor chapel, salford, on sunday, february 11, 1835, to improve the lamented death of the rev. robert morrison, d.d., f.r.s., c., c. with a sketch of his character and labours, principally compiled from his own correspondence. by john clunie, ll.d.\" of this discourse we are happy to avail ourselves, for the purpose of presenting our readers with a brief memorial of this distinguished servant of christ still referring'),\n",
       " Document(page_content='the strand magazine, vol. 05, issue 29, may 1893 produced by victorianedwardian pictorial magazines, jonathan ingram, josephine paolucci and the online distributed proofreading team at the strand magazine an illustrated monthly vol. 5, issue. 29. may 1893 illustration \"excuse our intrusion, madam.\" in the shadow of the sierras. in the shadow of the sierras by iza duffus hardy. barbara thorne sat leaning her head on her hand, looking at a photograph that lay on the table beneath her eyes. she had not intended to look for that when she pulled out a dusty drawer full of old letters, papers, and accountbooks to arrange and set in order. but when in the course of her rummaging and tidying she found that picture in her hand, she paused in her task. the neglected drawer stood open, with its dusty packets and rolls of faded papers. barbara had forgotten it and all else around her. she sat there lost in memory, her eyes fixed upon the \"counterfeit presentment\" of the face that once had been')]"
      ]
     },
     "execution_count": 42,
     "metadata": {},
     "output_type": "execute_result"
    }
   ],
   "source": [
    "# Retrieve using directly database\n",
    "vectordb.similarity_search(query_text,k=4)"
   ]
  },
  {
   "cell_type": "code",
   "execution_count": 33,
   "metadata": {},
   "outputs": [
    {
     "data": {
      "application/vnd.jupyter.widget-view+json": {
       "model_id": "44dcfad3c4aa4554ad0266f95dd080c1",
       "version_major": 2,
       "version_minor": 0
      },
      "text/plain": [
       "tokenizer_config.json:   0%|          | 0.00/1.92k [00:00<?, ?B/s]"
      ]
     },
     "metadata": {},
     "output_type": "display_data"
    },
    {
     "data": {
      "application/vnd.jupyter.widget-view+json": {
       "model_id": "eab6b099cb5848ef8040ff08c90e39f7",
       "version_major": 2,
       "version_minor": 0
      },
      "text/plain": [
       "spiece.model:   0%|          | 0.00/792k [00:00<?, ?B/s]"
      ]
     },
     "metadata": {},
     "output_type": "display_data"
    },
    {
     "data": {
      "application/vnd.jupyter.widget-view+json": {
       "model_id": "dd6232fd433247d5a5a999981bc64e07",
       "version_major": 2,
       "version_minor": 0
      },
      "text/plain": [
       "tokenizer.json:   0%|          | 0.00/2.42M [00:00<?, ?B/s]"
      ]
     },
     "metadata": {},
     "output_type": "display_data"
    },
    {
     "data": {
      "application/vnd.jupyter.widget-view+json": {
       "model_id": "e89594b966714e86817df6eb0f53368e",
       "version_major": 2,
       "version_minor": 0
      },
      "text/plain": [
       "special_tokens_map.json:   0%|          | 0.00/1.79k [00:00<?, ?B/s]"
      ]
     },
     "metadata": {},
     "output_type": "display_data"
    },
    {
     "data": {
      "application/vnd.jupyter.widget-view+json": {
       "model_id": "8e2e2713b37b41ec82041cea68341d8e",
       "version_major": 2,
       "version_minor": 0
      },
      "text/plain": [
       "config.json:   0%|          | 0.00/1.38k [00:00<?, ?B/s]"
      ]
     },
     "metadata": {},
     "output_type": "display_data"
    },
    {
     "data": {
      "application/vnd.jupyter.widget-view+json": {
       "model_id": "633bb446562048ca97b3db918bc07fb8",
       "version_major": 2,
       "version_minor": 0
      },
      "text/plain": [
       "pytorch_model.bin:   0%|          | 0.00/242M [00:00<?, ?B/s]"
      ]
     },
     "metadata": {},
     "output_type": "display_data"
    }
   ],
   "source": [
    "# Load model\n",
    "from transformers import AutoTokenizer, AutoModelForSeq2SeqLM\n",
    "tokenizer       = AutoTokenizer.from_pretrained(model_name)\n",
    "model           = AutoModelForSeq2SeqLM.from_pretrained(model_name)"
   ]
  },
  {
   "cell_type": "code",
   "execution_count": 7,
   "metadata": {},
   "outputs": [],
   "source": [
    "# Post-processing prompt (join)\n",
    "def format_docs(docs):\n",
    "    return \"\\n\\n\".join(doc.page_content for doc in docs)"
   ]
  },
  {
   "cell_type": "code",
   "execution_count": 43,
   "metadata": {},
   "outputs": [],
   "source": [
    "# Define RAG prompt\n",
    "\n",
    "from langchain_core.prompts.chat import PromptTemplate\n",
    "prompt_template = \"\"\"\n",
    "You are a great book summarizer. Below is a context followed by a question. The context is about a book. Please provide a detailed and accurate summarization based on the context for the question.\n",
    "\n",
    "Context:\n",
    "{context}\n",
    "\n",
    "Question:\n",
    "{question}\n",
    "\n",
    "Answer:\n",
    "\"\"\"\n",
    "prompt = PromptTemplate(\n",
    "    input_variables=[\"context\", \"question\"],\n",
    "    template=prompt_template\n",
    ")\n",
    "\n",
    "# from langchain.prompts import ChatPromptTemplate\n",
    "# prompt_template = \"\"\"\n",
    "# You are a great book summarizer. Below is a context followed by a question. The context is about a book. Please provide a detailed and accurate summarization based on the context for the question.\n",
    "\n",
    "# Context:\n",
    "# {context}\n",
    "\n",
    "# Question:\n",
    "# {question}\n",
    "\n",
    "# Answer:\n",
    "# \"\"\"\n",
    "# prompt = ChatPromptTemplate.from_template(prompt_template)\n"
   ]
  },
  {
   "cell_type": "code",
   "execution_count": 9,
   "metadata": {},
   "outputs": [
    {
     "data": {
      "text/plain": [
       "PromptTemplate(input_variables=['context', 'question'], template='\\nYou are a great book summarizer. Below is a context followed by a question. The context is about a book. Please provide a detailed and accurate summarization based on the context for the question.\\n\\nContext:\\n{context}\\n\\nQuestion:\\n{question}\\n\\nAnswer:\\n')"
      ]
     },
     "execution_count": 9,
     "metadata": {},
     "output_type": "execute_result"
    }
   ],
   "source": [
    "prompt"
   ]
  },
  {
   "cell_type": "code",
   "execution_count": 56,
   "metadata": {},
   "outputs": [],
   "source": [
    "# chain using ChatPromptTemplate\n",
    "# from langchain_core.output_parsers import StrOutputParser\n",
    "# from langchain_core.runnables import RunnablePassthrough\n",
    "# # Chain\n",
    "# chain = (\n",
    "#     {\"context\": retriever | format_docs, \"question\": RunnablePassthrough()}\n",
    "#     | prompt\n",
    "#     | llm\n",
    "#     | StrOutputParser()\n",
    "# )\n",
    "# chain.invoke(query_text)"
   ]
  },
  {
   "cell_type": "code",
   "execution_count": 58,
   "metadata": {},
   "outputs": [],
   "source": [
    "# Chain using PromptTemplate\n",
    "# from langchain_core.output_parsers import StrOutputParser\n",
    "# from langchain_core.runnables import RunnablePassthrough\n",
    "# # Chain\n",
    "# chain = (\n",
    "#     {\"context\": retriever | format_docs, \"question\": RunnablePassthrough()}\n",
    "#     | prompt\n",
    "#     | llm\n",
    "#     | StrOutputParser()\n",
    "# )\n",
    "# chain.invoke(query_text)"
   ]
  },
  {
   "cell_type": "code",
   "execution_count": 48,
   "metadata": {},
   "outputs": [
    {
     "data": {
      "application/vnd.jupyter.widget-view+json": {
       "model_id": "78b6dae124fc4290902d560be4e3497e",
       "version_major": 2,
       "version_minor": 0
      },
      "text/plain": [
       "tokenizer_config.json:   0%|          | 0.00/2.36k [00:00<?, ?B/s]"
      ]
     },
     "metadata": {},
     "output_type": "display_data"
    },
    {
     "data": {
      "application/vnd.jupyter.widget-view+json": {
       "model_id": "0dac72faef63484e88c78e7a8fb9bd22",
       "version_major": 2,
       "version_minor": 0
      },
      "text/plain": [
       "spiece.model:   0%|          | 0.00/792k [00:00<?, ?B/s]"
      ]
     },
     "metadata": {},
     "output_type": "display_data"
    },
    {
     "data": {
      "application/vnd.jupyter.widget-view+json": {
       "model_id": "413da1c7910f45cfabb177e9d28318e4",
       "version_major": 2,
       "version_minor": 0
      },
      "text/plain": [
       "tokenizer.json:   0%|          | 0.00/2.42M [00:00<?, ?B/s]"
      ]
     },
     "metadata": {},
     "output_type": "display_data"
    },
    {
     "data": {
      "application/vnd.jupyter.widget-view+json": {
       "model_id": "7e48816898034b388bafe5f2082b5bc2",
       "version_major": 2,
       "version_minor": 0
      },
      "text/plain": [
       "special_tokens_map.json:   0%|          | 0.00/2.20k [00:00<?, ?B/s]"
      ]
     },
     "metadata": {},
     "output_type": "display_data"
    },
    {
     "data": {
      "application/vnd.jupyter.widget-view+json": {
       "model_id": "5ec1a08f26ed45b98e2a5b5bc2f106ff",
       "version_major": 2,
       "version_minor": 0
      },
      "text/plain": [
       "config.json:   0%|          | 0.00/1.12k [00:00<?, ?B/s]"
      ]
     },
     "metadata": {},
     "output_type": "display_data"
    },
    {
     "data": {
      "application/vnd.jupyter.widget-view+json": {
       "model_id": "378b0195fabd4b7f82035386b520961f",
       "version_major": 2,
       "version_minor": 0
      },
      "text/plain": [
       "pytorch_model.bin:   0%|          | 0.00/990M [00:00<?, ?B/s]"
      ]
     },
     "metadata": {},
     "output_type": "display_data"
    }
   ],
   "source": [
    "# Custom Rag\n",
    "class CustomRag():\n",
    "    def __init__(self,promptTemplate,model,tokenizer,vectordb):\n",
    "        self.prompt_template = promptTemplate\n",
    "        self.model = model\n",
    "        # self.retriever = retriever\n",
    "        self.tokenizer = tokenizer\n",
    "        self.vectordb = vectordb    \n",
    "    def query_rag(self,query):\n",
    "        results = self.vectordb.similarity_search_with_score(query, k=5)\n",
    "        context_text = \"\\n\\n---\\n\\n\".join([doc.page_content for doc, _score in results])\n",
    "        prompt = self.prompt_template.format(context=context_text, question=query)\n",
    "        print('prompt>>',prompt)\n",
    "        print(\"len prompt>>\",len(prompt))\n",
    "        inputs_ids = self.tokenizer(prompt, return_tensors='pt',max_length=512, truncation=True, padding=\"max_length\").input_ids\n",
    "        print(\"shape prompt tokenized>>\",inputs_ids.shape)\n",
    "        print(\"decoded input>>\",self.tokenizer.decode(inputs_ids[0], skip_special_tokens=True))\n",
    "        response = self.model.generate(inputs_ids,max_new_tokens=150)\n",
    "        print(\"decoded response>>\",self.tokenizer.decode(response[0], skip_special_tokens=True))\n",
    "\n",
    "        return response"
   ]
  },
  {
   "cell_type": "code",
   "execution_count": 49,
   "metadata": {},
   "outputs": [
    {
     "name": "stdout",
     "output_type": "stream",
     "text": [
      "prompt>> \n",
      "You are a great book summarizer. Below is a context followed by a question. The context is about a book. Please provide a detailed and accurate summarization based on the context for the question.\n",
      "\n",
      "Context:\n",
      "the strand magazine, vol. 05, issue 28, april 1893 produced by jonathan ingram, janet blenkinship and the online distributed proofreading team at the strand an illustrated monthly vol. 5, issue. 28. april 1893 illustration sandringham from a photo. by bedford lemere. the prince of wales at sandringham. the prince of wales is, of course, precluded by his position from granting interviews like private persons, but his royal highness has been so good as to give us special permission to insert the following extremely interesting article, which we are happy to be able to present to our readers in place of the illustrated interview for the present month. the next of the series of illustrated interviews, by mr. harry how, will appear next month. sir robert rawlinson, the celebrated engineer, whose work saved so many lives in the crimea, has given mr. how a most interesting interview, with special illustrations. \"far from the busy haunt of man\" might be fitly applied to sandringham so quiet,\n",
      "\n",
      "---\n",
      "\n",
      "and generous character.\" as regards the curious question suggested by the ms. discrepancies in the last three chapters of the epistle to the romansnamely, whether the epistle was sent to the romans alonemr. sanday follows dr. lightfoot in believing that its original form was such as we now have it, with the exception of the last three verses, and that these formed an appendix, added on at the end of chapter xiv., when, during his captivity at rome, st. paul converted the earlier part into a circular epistle. the interesting view of m. renan, who believes it to have been originally a circular epistle, and takes the four endings xv. 33, and xvi. 20, 24 and 27 as the endings of the copies addressed respectively to the churches of rome, asia, macedonia, and some other unknown, is rather too curtly discussed with the remark that it fails when applied in detail. there is one more serious omission in this part of the commentary. though honourable mention is made of the commentaries of dr.\n",
      "\n",
      "---\n",
      "\n",
      "the baptist magazine, vol. 27, 1835 produced by bryan ness, charlene taylor and the online distributed proofreading team at this book was produced from scanned images of public domain material from the google print project. transcriber's note due to the number of tables, this file reads better in a monospaced font. the baptist magazine. may, 1835. memoir of the late rev. r. morrison, d.d., c. missionary to the chinese empire. by an intimate friend of the deceased.a footnote a a sermon has just been published, entitled, \"a voice from china a discourse, delivered at new windsor chapel, salford, on sunday, february 11, 1835, to improve the lamented death of the rev. robert morrison, d.d., f.r.s., c., c. with a sketch of his character and labours, principally compiled from his own correspondence. by john clunie, ll.d.\" of this discourse we are happy to avail ourselves, for the purpose of presenting our readers with a brief memorial of this distinguished servant of christ still referring\n",
      "\n",
      "---\n",
      "\n",
      "the strand magazine, vol. 05, issue 29, may 1893 produced by victorianedwardian pictorial magazines, jonathan ingram, josephine paolucci and the online distributed proofreading team at the strand magazine an illustrated monthly vol. 5, issue. 29. may 1893 illustration \"excuse our intrusion, madam.\" in the shadow of the sierras. in the shadow of the sierras by iza duffus hardy. barbara thorne sat leaning her head on her hand, looking at a photograph that lay on the table beneath her eyes. she had not intended to look for that when she pulled out a dusty drawer full of old letters, papers, and accountbooks to arrange and set in order. but when in the course of her rummaging and tidying she found that picture in her hand, she paused in her task. the neglected drawer stood open, with its dusty packets and rolls of faded papers. barbara had forgotten it and all else around her. she sat there lost in memory, her eyes fixed upon the \"counterfeit presentment\" of the face that once had been\n",
      "\n",
      "---\n",
      "\n",
      "the strand magazine, vol. 01, no. 03, march 1891 produced by dianna adair, jonathan ingram, ernest schaal, and the online distributed proofreading team at illustration the queen's first baby. drawn and etched by her majesty the queen. pictures with histories. a picture within a picturethere is a romance surrounding every canvas, a story hidden away with every product of the pencil or brush. our frontispiece, \"the queen's first baby,\" provides an excellent example. during the first few years of her majesty's married life a room in buckingham palace was fitted up with all necessities for printing etchings, and here the queen and prince consort would come and take impressions of their own work from the printing press. it is such a one that we are enabled to reproducea facsimile of an etching, sketched in the first place, prepared and put on the press, and finally printed by the royal mother of the little one it represents. the original etching is now in the possession of the writer. it\n",
      "\n",
      "Question:\n",
      "Summarize the book about the strand magazine, vol. 05, issue 25\n",
      "\n",
      "Answer:\n",
      "\n",
      "len prompt>> 5305\n",
      "shape prompt tokenized>> torch.Size([1, 512])\n",
      "decoded input>> You are a great book summarizer. Below is a context followed by a question. The context is about a book. Please provide a detailed and accurate summarization based on the context for the question. Context: the strand magazine, vol. 05, issue 28, april 1893 produced by jonathan ingram, janet blenkinship and the online distributed proofreading team at the strand an illustrated monthly vol. 5, issue. 28. april 1893 illustration sandringham from a photo. by bedford lemere. the prince of wales at sandringham. the prince of wales is, of course, precluded by his position from granting interviews like private persons, but his royal highness has been so good as to give us special permission to insert the following extremely interesting article, which we are happy to be able to present to our readers in place of the illustrated interview for the present month. the next of the series of illustrated interviews, by mr. harry how, will appear next month. sir robert rawlinson, the celebrated engineer, whose work saved so many lives in the crimea, has given mr. how a most interesting interview, with special illustrations. \"far from the busy haunt of man\" might be fitly applied to sandringham so quiet, --- and generous character.\" as regards the curious question suggested by the ms. discrepancies in the last three chapters of the epistle to the romansnamely, whether the epistle was sent to the romans alonemr. sanday follows dr. lightfoot in believing that its original form was such as we now have it, with the exception of the last three verses, and that these formed an appendix, added on at the end of chapter xiv., when, during his captivity at rome, st. paul converted the earlier part into a circular epistle. the interesting view of m. renan, who believes it to have been originally a circular epistle, and takes the four endings xv. 33, and xvi. 20, 24 and 27 as the endings of the copies addressed respectively to the churches of rome, asia\n"
     ]
    },
    {
     "name": "stderr",
     "output_type": "stream",
     "text": [
      "/media/emmanuelmoran/Emmanuel/lumenalta/llm-assessment/llm-assessment/env/lib/python3.10/site-packages/transformers/modeling_utils.py:1052: FutureWarning: The `device` argument is deprecated and will be removed in v5 of Transformers.\n",
      "  warnings.warn(\n"
     ]
    },
    {
     "name": "stdout",
     "output_type": "stream",
     "text": [
      "decoded response>> This is a book summary. It's about a novel, and it's been published in the Strand magazine from 1893 to 1893. The prince of Wales has asked us to put an interview on his site for the next month. We're going to have to wait until then, but we'll give you the details.\n"
     ]
    }
   ],
   "source": [
    "rag = CustomRag(prompt,model,tokenizer,vectordb)\n",
    "r = rag.query_rag(query_text)"
   ]
  },
  {
   "cell_type": "code",
   "execution_count": 31,
   "metadata": {},
   "outputs": [
    {
     "data": {
      "text/plain": [
       "torch.Size([1, 150])"
      ]
     },
     "execution_count": 31,
     "metadata": {},
     "output_type": "execute_result"
    }
   ],
   "source": [
    "r.shape"
   ]
  },
  {
   "cell_type": "code",
   "execution_count": 51,
   "metadata": {},
   "outputs": [
    {
     "data": {
      "application/vnd.jupyter.widget-view+json": {
       "model_id": "d8d6f0a5a3ba459e9a574fcc53126d6b",
       "version_major": 2,
       "version_minor": 0
      },
      "text/plain": [
       "Downloading data:   0%|          | 0.00/78.3M [00:00<?, ?B/s]"
      ]
     },
     "metadata": {},
     "output_type": "display_data"
    },
    {
     "data": {
      "application/vnd.jupyter.widget-view+json": {
       "model_id": "d64660db59df4a77af206c6b8aefdadd",
       "version_major": 2,
       "version_minor": 0
      },
      "text/plain": [
       "Downloading data:   0%|          | 0.00/10.4M [00:00<?, ?B/s]"
      ]
     },
     "metadata": {},
     "output_type": "display_data"
    },
    {
     "data": {
      "application/vnd.jupyter.widget-view+json": {
       "model_id": "c328a8cb47ee48808070fe128933cab5",
       "version_major": 2,
       "version_minor": 0
      },
      "text/plain": [
       "Downloading data:   0%|          | 0.00/10.5M [00:00<?, ?B/s]"
      ]
     },
     "metadata": {},
     "output_type": "display_data"
    },
    {
     "data": {
      "application/vnd.jupyter.widget-view+json": {
       "model_id": "1924874c03dd436c877948cbf42a5367",
       "version_major": 2,
       "version_minor": 0
      },
      "text/plain": [
       "Generating train split:   0%|          | 0/151 [00:00<?, ? examples/s]"
      ]
     },
     "metadata": {},
     "output_type": "display_data"
    },
    {
     "data": {
      "application/vnd.jupyter.widget-view+json": {
       "model_id": "1aca3bc14607482bb18bb28e8c8838bf",
       "version_major": 2,
       "version_minor": 0
      },
      "text/plain": [
       "Generating test split:   0%|          | 0/17 [00:00<?, ? examples/s]"
      ]
     },
     "metadata": {},
     "output_type": "display_data"
    },
    {
     "data": {
      "application/vnd.jupyter.widget-view+json": {
       "model_id": "867899ed0f5d4a7eb81f2d89bb18e36e",
       "version_major": 2,
       "version_minor": 0
      },
      "text/plain": [
       "Generating validation split:   0%|          | 0/19 [00:00<?, ? examples/s]"
      ]
     },
     "metadata": {},
     "output_type": "display_data"
    }
   ],
   "source": [
    "from datasets import load_dataset\n",
    "data=load_dataset('ubaada/booksum-complete-cleaned','books')"
   ]
  },
  {
   "cell_type": "code",
   "execution_count": 52,
   "metadata": {},
   "outputs": [
    {
     "data": {
      "text/plain": [
       "DatasetDict({\n",
       "    train: Dataset({\n",
       "        features: ['bid', 'title', 'text', 'summary'],\n",
       "        num_rows: 151\n",
       "    })\n",
       "    test: Dataset({\n",
       "        features: ['bid', 'title', 'text', 'summary'],\n",
       "        num_rows: 17\n",
       "    })\n",
       "    validation: Dataset({\n",
       "        features: ['bid', 'title', 'text', 'summary'],\n",
       "        num_rows: 19\n",
       "    })\n",
       "})"
      ]
     },
     "execution_count": 52,
     "metadata": {},
     "output_type": "execute_result"
    }
   ],
   "source": [
    "data"
   ]
  },
  {
   "cell_type": "code",
   "execution_count": null,
   "metadata": {},
   "outputs": [],
   "source": [
    "# Load model directly\n",
    "from transformers import AutoTokenizer, AutoModelForSeq2SeqLM\n",
    "\n",
    "tokenizer = AutoTokenizer.from_pretrained(\"pszemraj/led-base-book-summary\")\n",
    "model = AutoModelForSeq2SeqLM.from_pretrained(\"pszemraj/led-base-book-summary\")"
   ]
  }
 ],
 "metadata": {
  "kernelspec": {
   "display_name": "env",
   "language": "python",
   "name": "python3"
  },
  "language_info": {
   "codemirror_mode": {
    "name": "ipython",
    "version": 3
   },
   "file_extension": ".py",
   "mimetype": "text/x-python",
   "name": "python",
   "nbconvert_exporter": "python",
   "pygments_lexer": "ipython3",
   "version": "3.10.12"
  }
 },
 "nbformat": 4,
 "nbformat_minor": 2
}
