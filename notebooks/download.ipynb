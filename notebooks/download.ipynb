{
 "cells": [
  {
   "cell_type": "code",
   "execution_count": 13,
   "metadata": {},
   "outputs": [],
   "source": [
    "import os\n",
    "import requests\n",
    "import pandas as pd\n",
    "import numpy as np\n",
    "import math\n",
    "import random\n",
    "from datetime import datetime as dt"
   ]
  },
  {
   "cell_type": "code",
   "execution_count": 2,
   "metadata": {},
   "outputs": [],
   "source": [
    "dataset_directory       = 'pgc_dataset'\n",
    "random_categories       = 10              # max 234\n",
    "books_per_categories    = 10           # check for max per category?"
   ]
  },
  {
   "cell_type": "code",
   "execution_count": 3,
   "metadata": {},
   "outputs": [],
   "source": [
    "dfo = pd.read_csv(\"https://www.gutenberg.org/cache/epub/feeds/pg_catalog.csv\",sep=\",\",dtype=str)"
   ]
  },
  {
   "cell_type": "code",
   "execution_count": 4,
   "metadata": {},
   "outputs": [],
   "source": [
    "dfo.to_csv(os.path.join(dataset_directory,'pg_catalog_original.csv'),index=False)"
   ]
  },
  {
   "cell_type": "code",
   "execution_count": 5,
   "metadata": {},
   "outputs": [
    {
     "name": "stdout",
     "output_type": "stream",
     "text": [
      "<class 'pandas.core.frame.DataFrame'>\n",
      "RangeIndex: 74004 entries, 0 to 74003\n",
      "Data columns (total 9 columns):\n",
      " #   Column       Non-Null Count  Dtype \n",
      "---  ------       --------------  ----- \n",
      " 0   Text#        74004 non-null  object\n",
      " 1   Type         74004 non-null  object\n",
      " 2   Issued       74004 non-null  object\n",
      " 3   Title        74004 non-null  object\n",
      " 4   Language     74004 non-null  object\n",
      " 5   Authors      73834 non-null  object\n",
      " 6   Subjects     73951 non-null  object\n",
      " 7   LoCC         73749 non-null  object\n",
      " 8   Bookshelves  17168 non-null  object\n",
      "dtypes: object(9)\n",
      "memory usage: 5.1+ MB\n"
     ]
    }
   ],
   "source": [
    "dfo.info()"
   ]
  },
  {
   "cell_type": "code",
   "execution_count": 6,
   "metadata": {},
   "outputs": [
    {
     "data": {
      "text/plain": [
       "Index(['Text#', 'Type', 'Issued', 'Title', 'Language', 'Authors', 'Subjects',\n",
       "       'LoCC', 'Bookshelves'],\n",
       "      dtype='object')"
      ]
     },
     "execution_count": 6,
     "metadata": {},
     "output_type": "execute_result"
    }
   ],
   "source": [
    "dfo.columns"
   ]
  },
  {
   "cell_type": "code",
   "execution_count": 7,
   "metadata": {},
   "outputs": [],
   "source": [
    "# filter language and category present. The main category is used to follow.\n",
    "def filternancat(row):\n",
    "    if type(row['category'])==float and math.isnan(row['category']):\n",
    "        return False\n",
    "    return True\n",
    "df = dfo[(dfo['Language']==\"en\")]\n",
    "df = df[['Text#','Title','Language','Bookshelves']]\n",
    "df.rename({'Text#':'bookid','Title':'title','Language':'language','Bookshelves':'category'},axis=1,inplace=True)\n",
    "df = df[df.apply(filternancat, axis=1)]\n",
    "df['category'] = [catg.split(';')[0] for catg in df['category']] # get first category in Bookshelves(category) as the main category"
   ]
  },
  {
   "cell_type": "code",
   "execution_count": 8,
   "metadata": {},
   "outputs": [
    {
     "data": {
      "text/html": [
       "<div>\n",
       "<style scoped>\n",
       "    .dataframe tbody tr th:only-of-type {\n",
       "        vertical-align: middle;\n",
       "    }\n",
       "\n",
       "    .dataframe tbody tr th {\n",
       "        vertical-align: top;\n",
       "    }\n",
       "\n",
       "    .dataframe thead th {\n",
       "        text-align: right;\n",
       "    }\n",
       "</style>\n",
       "<table border=\"1\" class=\"dataframe\">\n",
       "  <thead>\n",
       "    <tr style=\"text-align: right;\">\n",
       "      <th></th>\n",
       "      <th>bookid</th>\n",
       "      <th>title</th>\n",
       "      <th>language</th>\n",
       "      <th>category</th>\n",
       "    </tr>\n",
       "  </thead>\n",
       "  <tbody>\n",
       "    <tr>\n",
       "      <th>0</th>\n",
       "      <td>1</td>\n",
       "      <td>The Declaration of Independence of the United ...</td>\n",
       "      <td>en</td>\n",
       "      <td>Politics</td>\n",
       "    </tr>\n",
       "    <tr>\n",
       "      <th>1</th>\n",
       "      <td>2</td>\n",
       "      <td>The United States Bill of Rights\\r\\nThe Ten Or...</td>\n",
       "      <td>en</td>\n",
       "      <td>Politics</td>\n",
       "    </tr>\n",
       "    <tr>\n",
       "      <th>3</th>\n",
       "      <td>4</td>\n",
       "      <td>Lincoln's Gettysburg Address\\r\\nGiven November...</td>\n",
       "      <td>en</td>\n",
       "      <td>US Civil War</td>\n",
       "    </tr>\n",
       "    <tr>\n",
       "      <th>4</th>\n",
       "      <td>5</td>\n",
       "      <td>The United States Constitution</td>\n",
       "      <td>en</td>\n",
       "      <td>United States</td>\n",
       "    </tr>\n",
       "    <tr>\n",
       "      <th>5</th>\n",
       "      <td>6</td>\n",
       "      <td>Give Me Liberty or Give Me Death</td>\n",
       "      <td>en</td>\n",
       "      <td>American Revolutionary War</td>\n",
       "    </tr>\n",
       "  </tbody>\n",
       "</table>\n",
       "</div>"
      ],
      "text/plain": [
       "  bookid                                              title language  \\\n",
       "0      1  The Declaration of Independence of the United ...       en   \n",
       "1      2  The United States Bill of Rights\\r\\nThe Ten Or...       en   \n",
       "3      4  Lincoln's Gettysburg Address\\r\\nGiven November...       en   \n",
       "4      5                     The United States Constitution       en   \n",
       "5      6                   Give Me Liberty or Give Me Death       en   \n",
       "\n",
       "                     category  \n",
       "0                    Politics  \n",
       "1                    Politics  \n",
       "3                US Civil War  \n",
       "4               United States  \n",
       "5  American Revolutionary War  "
      ]
     },
     "execution_count": 8,
     "metadata": {},
     "output_type": "execute_result"
    }
   ],
   "source": [
    "df.head()"
   ]
  },
  {
   "cell_type": "code",
   "execution_count": 11,
   "metadata": {},
   "outputs": [],
   "source": [
    "def download(book_id, category, directory):\n",
    "    try:\n",
    "        url = f\"https://www.gutenberg.org/ebooks/{book_id}.txt.utf-8\"\n",
    "        response = requests.get(url)\n",
    "        response.raise_for_status()\n",
    "        text = response.text\n",
    "        os.makedirs(os.path.join(directory, category), exist_ok=True)\n",
    "        filename = os.path.join(directory, category, f\"book_{book_id}.txt\")\n",
    "        with open(filename, 'w', encoding='utf-8') as file:\n",
    "            file.write(text)\n",
    "        print(f\"Sucess!: Category {category} - book_{book_id}.txt\")\n",
    "    except Exception as e:\n",
    "        print(f\"Fail!: Category {category} - book_{book_id}.txt\")"
   ]
  },
  {
   "cell_type": "code",
   "execution_count": 14,
   "metadata": {},
   "outputs": [
    {
     "name": "stdout",
     "output_type": "stream",
     "text": [
      "Sucess!: Category Architecture - book_20239.txt\n",
      "Sucess!: Category Architecture - book_23668.txt\n",
      "Sucess!: Category Architecture - book_19511.txt\n",
      "Sucess!: Category Architecture - book_20191.txt\n",
      "Sucess!: Category Architecture - book_20967.txt\n",
      "Sucess!: Category Architecture - book_21511.txt\n",
      "Sucess!: Category Architecture - book_19424.txt\n",
      "Sucess!: Category Architecture - book_19737.txt\n",
      "Sucess!: Category Architecture - book_19494.txt\n",
      "Sucess!: Category Architecture - book_22990.txt\n",
      "Sucess!: Category Microbiology - book_27713.txt\n",
      "Sucess!: Category Microbiology - book_27713.txt\n",
      "Sucess!: Category Microbiology - book_4962.txt\n",
      "Sucess!: Category Microbiology - book_2938.txt\n",
      "Sucess!: Category Microbiology - book_2938.txt\n",
      "Sucess!: Category Microbiology - book_27778.txt\n",
      "Sucess!: Category Microbiology - book_27778.txt\n",
      "Sucess!: Category Microbiology - book_2938.txt\n",
      "Sucess!: Category Microbiology - book_4962.txt\n",
      "Sucess!: Category Microbiology - book_2938.txt\n",
      "Sucess!: Category Physics - book_15207.txt\n",
      "Fail!: Category Physics - book_40030.txt\n",
      "Fail!: Category Physics - book_36114.txt\n",
      "Fail!: Category Physics - book_39017.txt\n",
      "Sucess!: Category Physics - book_4908.txt\n",
      "Sucess!: Category Physics - book_11335.txt\n",
      "Sucess!: Category Physics - book_30155.txt\n",
      "Sucess!: Category Physics - book_10773.txt\n",
      "Sucess!: Category Physics - book_4908.txt\n",
      "Fail!: Category Physics - book_29784.txt\n",
      "Sucess!: Category English Civil War - book_25449.txt\n",
      "Sucess!: Category English Civil War - book_32958.txt\n",
      "Sucess!: Category English Civil War - book_32958.txt\n",
      "Sucess!: Category English Civil War - book_25449.txt\n",
      "Sucess!: Category English Civil War - book_32958.txt\n",
      "Sucess!: Category English Civil War - book_32958.txt\n",
      "Sucess!: Category English Civil War - book_25449.txt\n",
      "Sucess!: Category English Civil War - book_32958.txt\n",
      "Sucess!: Category English Civil War - book_32958.txt\n",
      "Sucess!: Category English Civil War - book_25449.txt\n",
      "Sucess!: Category Italy - book_8799.txt\n",
      "Sucess!: Category Italy - book_41537.txt\n",
      "Sucess!: Category Italy - book_45573.txt\n",
      "Sucess!: Category Italy - book_43607.txt\n",
      "Sucess!: Category Italy - book_1007.txt\n",
      "Sucess!: Category Italy - book_24652.txt\n",
      "Sucess!: Category Italy - book_41085.txt\n",
      "Sucess!: Category Italy - book_1005.txt\n",
      "Sucess!: Category Italy - book_2834.txt\n",
      "Sucess!: Category Italy - book_1006.txt\n",
      "Sucess!: Category The Aldine - book_15092.txt\n",
      "Sucess!: Category The Aldine - book_15092.txt\n",
      "Sucess!: Category The Aldine - book_15092.txt\n",
      "Sucess!: Category The Aldine - book_15092.txt\n",
      "Sucess!: Category The Aldine - book_15092.txt\n",
      "Sucess!: Category The Aldine - book_15092.txt\n",
      "Sucess!: Category The Aldine - book_15092.txt\n",
      "Sucess!: Category The Aldine - book_15092.txt\n",
      "Sucess!: Category The Aldine - book_15092.txt\n",
      "Sucess!: Category The Aldine - book_15092.txt\n",
      "Sucess!: Category Latter Day Saints - book_60758.txt\n",
      "Sucess!: Category Latter Day Saints - book_54626.txt\n",
      "Sucess!: Category Latter Day Saints - book_14661.txt\n",
      "Sucess!: Category Latter Day Saints - book_45054.txt\n",
      "Sucess!: Category Latter Day Saints - book_49739.txt\n",
      "Sucess!: Category Latter Day Saints - book_49357.txt\n",
      "Sucess!: Category Latter Day Saints - book_50958.txt\n",
      "Sucess!: Category Latter Day Saints - book_52552.txt\n",
      "Sucess!: Category Latter Day Saints - book_56698.txt\n",
      "Sucess!: Category Latter Day Saints - book_35565.txt\n",
      "Sucess!: Category Bird-Lore - book_39854.txt\n",
      "Sucess!: Category Bird-Lore - book_39854.txt\n",
      "Sucess!: Category Bird-Lore - book_39854.txt\n",
      "Sucess!: Category Bird-Lore - book_39854.txt\n",
      "Sucess!: Category Bird-Lore - book_39854.txt\n",
      "Sucess!: Category Bird-Lore - book_39854.txt\n",
      "Sucess!: Category Bird-Lore - book_39854.txt\n",
      "Sucess!: Category Bird-Lore - book_39854.txt\n",
      "Sucess!: Category Bird-Lore - book_39854.txt\n",
      "Sucess!: Category Bird-Lore - book_39854.txt\n",
      "Sucess!: Category Animals-Domestic - book_24923.txt\n",
      "Sucess!: Category Animals-Domestic - book_32069.txt\n",
      "Sucess!: Category Animals-Domestic - book_37329.txt\n",
      "Sucess!: Category Animals-Domestic - book_37329.txt\n",
      "Sucess!: Category Animals-Domestic - book_31847.txt\n",
      "Sucess!: Category Animals-Domestic - book_2392.txt\n",
      "Sucess!: Category Animals-Domestic - book_38777.txt\n",
      "Sucess!: Category Animals-Domestic - book_35448.txt\n",
      "Sucess!: Category Animals-Domestic - book_34376.txt\n",
      "Sucess!: Category Animals-Domestic - book_34259.txt\n",
      "Sucess!: Category The American Bee Journal - book_61056.txt\n",
      "Sucess!: Category The American Bee Journal - book_58189.txt\n",
      "Sucess!: Category The American Bee Journal - book_58178.txt\n",
      "Sucess!: Category The American Bee Journal - book_58187.txt\n",
      "Sucess!: Category The American Bee Journal - book_59152.txt\n",
      "Sucess!: Category The American Bee Journal - book_58493.txt\n",
      "Sucess!: Category The American Bee Journal - book_58178.txt\n",
      "Sucess!: Category The American Bee Journal - book_59152.txt\n",
      "Sucess!: Category The American Bee Journal - book_58961.txt\n",
      "Sucess!: Category The American Bee Journal - book_61056.txt\n"
     ]
    }
   ],
   "source": [
    "date_dataset = dt.now().strftime(\"%Y%m%d%H%M%S\")\n",
    "datedir = os.path.join(dataset_directory,date_dataset)\n",
    "random_categories = random.choices(list(set(df['category'])), k=random_categories) \n",
    "for category in random_categories:\n",
    "    book_ids = random.choices(list(df[df['category']==category]['bookid']), k=books_per_categories)\n",
    "    for book_id in book_ids:\n",
    "        download(book_id,category,datedir)"
   ]
  },
  {
   "cell_type": "code",
   "execution_count": null,
   "metadata": {},
   "outputs": [],
   "source": [
    "\n"
   ]
  },
  {
   "cell_type": "code",
   "execution_count": null,
   "metadata": {},
   "outputs": [],
   "source": []
  }
 ],
 "metadata": {
  "kernelspec": {
   "display_name": "llm-venv",
   "language": "python",
   "name": "python3"
  },
  "language_info": {
   "codemirror_mode": {
    "name": "ipython",
    "version": 3
   },
   "file_extension": ".py",
   "mimetype": "text/x-python",
   "name": "python",
   "nbconvert_exporter": "python",
   "pygments_lexer": "ipython3",
   "version": "3.12.4"
  }
 },
 "nbformat": 4,
 "nbformat_minor": 2
}
