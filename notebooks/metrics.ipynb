{
 "cells": [
  {
   "cell_type": "code",
   "execution_count": 2,
   "metadata": {},
   "outputs": [],
   "source": [
    "from datasets import load_dataset\n",
    "import torch\n",
    "\n",
    "# Load the BookSum dataset\n",
    "dataset = load_dataset(\"kmfoda/booksum\")"
   ]
  },
  {
   "cell_type": "code",
   "execution_count": 3,
   "metadata": {},
   "outputs": [
    {
     "name": "stderr",
     "output_type": "stream",
     "text": [
      "You are using the default legacy behaviour of the <class 'transformers.models.t5.tokenization_t5.T5Tokenizer'>. This is expected, and simply means that the `legacy` (previous) behavior will be used so nothing changes for you. If you want to use the new behaviour, set `legacy=False`. This should only be set if you understand what it means, and thoroughly read the reason why this was added as explained in https://github.com/huggingface/transformers/pull/24565\n",
      "Special tokens have been added in the vocabulary, make sure the associated word embeddings are fine-tuned or trained.\n"
     ]
    }
   ],
   "source": [
    "from transformers import T5Tokenizer\n",
    "\n",
    "tokenizer = T5Tokenizer.from_pretrained(\"t5-small\")\n",
    "\n",
    "def preprocess_data(examples):\n",
    "    inputs = examples['chapter']\n",
    "    targets = examples['summary']\n",
    "    model_inputs = tokenizer(inputs, max_length=512, truncation=True, padding=\"max_length\")\n",
    "    labels = tokenizer(targets, max_length=150, truncation=True, padding=\"max_length\")\n",
    "    model_inputs[\"labels\"] = labels[\"input_ids\"]\n",
    "    return model_inputs\n",
    "\n",
    "# Apply preprocessing\n",
    "tokenized_datasets = dataset.map(preprocess_data, batched=True)\n"
   ]
  },
  {
   "cell_type": "code",
   "execution_count": 1,
   "metadata": {},
   "outputs": [
    {
     "data": {
      "application/vnd.jupyter.widget-view+json": {
       "model_id": "157d62af23ed4a4a9206c1a0076d3adf",
       "version_major": 2,
       "version_minor": 0
      },
      "text/plain": [
       "config.json:   0%|          | 0.00/1.56k [00:00<?, ?B/s]"
      ]
     },
     "metadata": {},
     "output_type": "display_data"
    },
    {
     "name": "stderr",
     "output_type": "stream",
     "text": [
      "d:\\OTROS\\LLMs\\llm-venv\\Lib\\site-packages\\huggingface_hub\\file_download.py:157: UserWarning: `huggingface_hub` cache-system uses symlinks by default to efficiently store duplicated files but your machine does not support them in C:\\Users\\emmanuelmoran\\.cache\\huggingface\\hub\\models--fnando1995--t5-small-finetuned-booksum-pgc. Caching files will still work but in a degraded version that might require more space on your disk. This warning can be disabled by setting the `HF_HUB_DISABLE_SYMLINKS_WARNING` environment variable. For more details, see https://huggingface.co/docs/huggingface_hub/how-to-cache#limitations.\n",
      "To support symlinks on Windows, you either need to activate Developer Mode or to run Python as an administrator. In order to see activate developer mode, see this article: https://docs.microsoft.com/en-us/windows/apps/get-started/enable-your-device-for-development\n",
      "  warnings.warn(message)\n"
     ]
    },
    {
     "data": {
      "application/vnd.jupyter.widget-view+json": {
       "model_id": "323f2cc7b6434df8b6c19f2d49091a53",
       "version_major": 2,
       "version_minor": 0
      },
      "text/plain": [
       "model.safetensors:   0%|          | 0.00/242M [00:00<?, ?B/s]"
      ]
     },
     "metadata": {},
     "output_type": "display_data"
    }
   ],
   "source": [
    "from transformers import T5ForConditionalGeneration\n",
    "\n",
    "model = T5ForConditionalGeneration.from_pretrained(\"fnando1995/t5-small-finetuned-booksum-pgc\")"
   ]
  },
  {
   "cell_type": "code",
   "execution_count": 28,
   "metadata": {},
   "outputs": [],
   "source": [
    "from tqdm import tqdm\n",
    "\n",
    "def generate_summaries(dataset, model, tokenizer, device):\n",
    "    model.to(device)\n",
    "    inputs = tokenizer(dataset['chapter'], return_tensors=\"pt\", truncation=True, padding=\"max_length\", max_length=512)\n",
    "    input_ids = inputs.input_ids.to(device)\n",
    "    attention_mask = inputs.attention_mask.to(device)\n",
    "    \n",
    "    outputs = model.generate(input_ids=input_ids, attention_mask=attention_mask, max_length=1000)\n",
    "    summaries = tokenizer.batch_decode(outputs, skip_special_tokens=True)\n",
    "    \n",
    "    return summaries\n",
    "\n",
    "device = \"cuda\" if torch.cuda.is_available() else \"cpu\"\n",
    "generated_summaries = generate_summaries(tokenized_datasets['validation'][:3], model, tokenizer, device)\n",
    "\n",
    "# Prepare references and predictions\n",
    "references = tokenized_datasets['validation'][:3]['summary']\n",
    "predictions = generated_summaries"
   ]
  },
  {
   "cell_type": "code",
   "execution_count": 29,
   "metadata": {},
   "outputs": [
    {
     "data": {
      "text/plain": [
       "['{\"name\": \"Chapters 1-4\", \"url\": \"https://web.archive.org/web/20210421025427/https://www.gradesaver.com/bleak-house/study-guide/summary-chapters-1-4\", \"summary\": \"The scene opens in London on a foggy, smoggy day. The High Court of Chancery is in session, and it appears that the fog has settled thickest on this part of London. This is where the legal suit of Jarndyce and Jarndyce is being argued. A little mad old woman , and a man from Shropshire are in attendance. A \\\\\"sallow prisoner\\\\\" is brought forward. Mr. Tangle, a lawyer, speaks with the Lord High Chancellor, and the matter of the two young wards in Jarndyce is discussed. This matter will come up before the court tomorrow. The scene changes in Chapter 2 to Chesney Wold, a stately home in Lincolnshire. Here the weather is also bad, but it is constant rain rather than fog. The lady of the manor, Lady Dedlock, is bored to death. She had been in London, and has come back to the country seat before leaving for Paris in a few days. Lady Dedlock is introduced to us as a very beautiful middle-aged society lady, her charms undimmed by time. She is exceedingly dignified and self-controlled, but her \\\\\"caprices,\\\\\" which she tries to hide, are known to her servants and tradesmen. She is the wife of Sir Leicester Dedlock, a baronet, who has married somehat beneath him. It is clear that Lady Dedlock has brought neither an aristocratic lineage or a fortune to the marriage. It is also clear that Sir Leicester has such a great amount of both of those things, and loves her so dearly, that it matters not to him. Mr. Tulkinghorn, the family solicitor, has come down to Chesney Wold to discuss the Jarndyce case, in which Lady Dedlock has some slight interest. He is a secretive, enigmatic man, of the most controlled and logical character. He brings many legal papers with him, and Lady Dedlock seems to take an interest in the handwriting on one of them. She asks whose writing it is, but Mr. Tulkinghorn cannot answer her. She becomes faint and must be taken to her room. In Chapter 3, Esther Summerson\\'s life story is told. She has been materially provided for but emotionally neglected by her \\\\\"godmother\\\\\" in the town of Windsor. When Esther is about fourteen, her godmother dies, and Esther is sent to Greenleaf school. Through Mr. Kenge, John Jarndyce\\'s solicitor, who comes to see Esther after her godmother\\'s death, she learns her benefactor is Mr. Jarndyce. She has never seen him, but he appears, unbeknownst to her until years later, in the carriage that takes her to Greenleaf school. She is sent there after her godmother\\'s death, and passes six happy years there, being taught by the Misses Donny. Her accounts are paid by her unknown benefactor all the while. When she is older she becomes a teacher of the other girls there, and inspires great affection in her students. When she has grown old and educated enough to leave Greenleaf school, she is asked to serve in her benefactor\\'s house, Bleak House. She is brought to Chancery Court to meet Ada Clare and Richard Carstone, two wards in the Jarndyce suit, who are also under the guardianship of Mr. Jarndyce. Esther is meant to be Ada\\'s lady companion. As they leave the court, they meet Miss Flite, who introduces herself. They learn she is also a suitor in Chancery, and observe that she is poor, eccentric, and perhaps a little mad. In Chapter 4, the three young people are sent to stay the night at the Jellyby household. Mrs. Jellyby is a philanthropic lady who neglects her large and chaotic household in favor of writing long letters, dictated to her eldest daughter Caddy, about the social conditions in places in Africa. Caddy, an overworked waif, clings to Esther and becomes her friend, as does the youngest neglected child, Peepy.\", \"analysis\": \"Dickens immediately plunges the readers in medias res, enveloping us in the Jarndyce suit.  The suit is never fully explained, as the main thrust of the suit has been buried beneath legal wrangling, pointless jargon, details and niceties.   The dirty, smutty fog surrounding Chancery Lane is a metaphor for the fogged proceedings of the Chancery court.  The pathetic victims of the suit, Gridley, Miss Flite, and soon young Richard and Ada are introduced.  Dickens makes no compunction about depicting the court as a cesspool of injustice, waste, and corruption, and the cold, foggy, muddy weather is indicative of it.  This is the first example of many instances of weather reflecting the meaning of situations, characters, and locations. Chesney Wold is immersed in rain, to reflect the cynical and bored nature of its mistress, Lady Dedlock.  She is portrayed as the most indulged of society\\'s ladies, and her boredom among the manorial splendor and extreme comfort of her wealthy situation is implicitly criticized.  It is important that she be a figure of feminine envy, since it will become apparent that she has paid the price for owning such personal charms later.  She is shown as a figure of extreme self control and dignity, to match with the high prestige and aristocratic brittleness of her husband Sir Leicester.  He, though hidebound and reactionary, is portrayed a little softer, with clear love and concern for his wife. Tulkinghorn appears as the quintessential family solicitor.  He is exceedingly careful and correct, and without emotions of any kind.  He immediately seizes upon Lady Dedlock\\'s interest in the handwriting, as anything out of the ordinary concerning the Dedlock family intrigues him. Esther is also brought in fully formed, and we already know of her desire to do her duty, and her humble, almost apologetic acknowledgement of her own existence.  She is remarkably virtuous for a child that has never been shown love or affection, and remarkably willing to do her duty and desire love and respect from others. Curiosity about Mr. Jarndyce is rife -- is he Esther\\'s secret father, or some other kind of relation?  Why is he so kind to people he has never met?  The instant friendship between Ada and Richard and Esther is neither explained or questioned, and the three young people are thrust upon the world together. The Jellyby household, in its extreme dissarray and concern for unimportant things, is Dickens\\' miniature England.  The society at large is like the family which does not care for its children but unloads its charitable efforts abroad.  The neglected Jellyby children are like the poor and dispossesed of England, forgotten by both government and philanthropy alike, for those institutions are concerned with matters that are not for the public good.  Caddy is introduced less than sympathetically, and realistically speaks for all neglected, angry children.  She is unable to speak or express her disaffection, having been deprived of any fuction but that of scribe to her mother\\'s zealous \\\\\"charity.\\\\\"  She is brought round quickly by Esther, showing Esther\\'s almost saintly ability to overcome systemic neglect  with tender and careful modesty.\"}',\n",
       " '{\"name\": \"Chapters 5-7\", \"url\": \"https://web.archive.org/web/20210421025427/https://www.gradesaver.com/bleak-house/study-guide/summary-chapters-5-7\", \"summary\": \"Caddy Jellyby has spent the night in Esther and Ada\\'s room, sleeping near Esther in a fit of despair. Before breakfast, she proposes a walk, and all the young people agree. Esther again shows kindness to Peepy, washing him and putting him to sleep in her bed. Esther, Ada, Caddy, and Richard take their first walk about London. They soon meet Miss Flite again, who begs them to come to her lodgings. They go and visit Krook\\'s rag-and-bottle shop, above which is Miss Flite\\'s room. As they enter, Esther sees a legal handwritten advertisement for Mr. Nemo, requesting work as a law writer . Neither Esther nor we yet know it, but she is looking at the handwriting of her father and entering the house where he lives. The group meets Mr. Krook, who is obsessed with Chancery documents. He rambles on about the Jarndyce suit, mentioning the names Barbary, Clare, and Dedlock, giving Esther, unaware, two more names of her mysterious parentage. They see Miss Flite\\'s bare and sad room, and Richard surreptitiously leaves some money for her. They return to the Jellyby house, much affected by the sad states to which Chancery can reduce people. In Chapter 6, the long awaited meeting with Mr. Jarndyce happens at his home, Bleak House. He is described as a handsome, robust man in his 50s -- exceedingly kindly, genteel, and self-effacing. He has a little quirk of mentioning the \\\\\"east wind\\\\\" whenever something he doesn\\'t like is brought up. The three young people instantly like and feel affection for their mutual benefactor. A \\\\\"perfect child\\\\\" is abruptly introduced -- the parasitic poet, Mr. Skimpole. The three young people are instantly brought into his inbroglios when the bailiff, a man called Neckett, arrives and demands payment of a debt. Richard and Esther come to the rescue, and, upon learning of it, Mr. Jarndyce warns them not to give money to Skimpole. At the end of the day, Esther is given the keys to the household, the mark of the housekeeper of Bleak House. She is excited and honored to have this position. She sets up residence in a room adjoining Ada\\'s, with a sitting room in between, and everything in the house is to the young people\\'s liking. Chapter 7 is back in Chesney Wold. Sir Leicester and Lady Dedlock have left for Paris. The rain continues, and Mrs. Rouncewell, the aged housekeeper, is introduced. She is instructing a young village girl of considerable beauty in the ways of housekeeping and maid\\'s work in a great house. Mrs. Rouncewell\\'s grandson, Watt, who loves Rosa, is visiting. In the midst of the rain a couple of visitors come to see the house, but are told it \\\\\"isn\\'t the day\\\\\". They persist, and are admitted, by using Mr. Tulkinghorn\\'s name. Mr. Guppy and his friend are brought through the house, and Mr. Guppy admires a portrait of Lady Dedlock. He exclaims that he must have seen the subject somewhere before. Guppy, who had met Esther Summerson briefly in London at Kenge and Carboy\\'s, is unconsciously remembering Lady Dedlock\\'s resemblence to Esther. Guppy leaves a bit perplexed. Mrs. Rouncewell had refused to tell the family ghost story, but now recounts it to her grandson and her charge, Rosa. The Ghost\\'s Walk is a terraced walk outside the house, and an eerie footstep is often heard echoing from it. It is supposed that two hundred years ago, a previous Lady Dedlock had sabotaged horses meant for Cavaliers fighting Cromwellian forces. She had lamed them, and, upon being discovered, was lamed herself by her husband in a struggle. She was limping on the terrace and fell and died, and she vowed to haunt the terrace until \\\\\"the pride of the house is tumbled.\\\\\" Watt and Rosa can still hear the phantom footsteps.\", \"analysis\": \"The coincidence of Esther arriving at the home of her unknown father on her only day in London is an extraordinarily bold plot device by Dickens.  The fact that the extreme unlikelihood of this event occurring is made more plausible by the fact that the reader does not know that Nemo is Esther\\'s father, and neither are his lodging or his occupation known.  The smaller coincidence, of Krook rattling off three important names in the Jarndyce suit, which are also important names to Esther  is also softened, since the reader and Esther do not know the significance of the names Barbary and Dedlock yet.  This sort of blatantly unlikely plot manipulation is easily assimilated by the reader hundreds of pages later, and the coincidence does not seem so unlikely.  It is neatly done.  The visit to Miss Flite\\'s sad little room is more significant to Esther than she will know for some time. Dickens also firmly emphasizes Esther\\'s female virtues by her tender kindnesses to the pathetic Peepy.  Dickens returns to the neglected boy, which is a perhaps a recollection of himself during the hard times in his childhood, in the person of Jo later on in the novel.  The neglected boys are signs for all the neglected and misused people of England, and are exceedingly affecting portraits to the reader because they are so well-drawn and believable. Krook\\'s shop is meant to be an almost completely undisguised symbol of the Court of Chancery.  Krook is even called jocularly the Lord High Chancellor by his neighbors, because of his obsession with documents and the vast disorderedness of his shop.  \\\\\"All\\'s fish that comes to my net\\\\\" Krook says, and things go into Krook\\'s shop and never come out.  This tendency to swallow documents and lives captures exactly Dickens\\' commentary on the useless consumption and lack of justice in Chancery. Miss Flite\\'s little birds are introduced but not yet named, and her extreme poverty is shown as another wasteful result of the whole Chancery system.  In this episode in Krook\\'s shop, too, we learn of John Jarndyce\\'s cousin Tom\\'s suicide over the Jarndyce suit. In Chapter 6, Bleak House becomes a haven of rest, order, and happiness.  The young people are very glad to have found their benefactor and his home to be so inviting and agreeable.  But even within the happiness and order of Bleak House an evil resides -- Mr. Skimpole, who appears to be most charming and amusing, raises the spectre of vice and parasitism, waste and selfishness that has been so evident in the descriptions of Chancery.  Even in the best of British homes an evil can lurk, Dickens seems to say. In Chapter 7 at Chesney Wold, the history of the Dedlocks is slightly illuminated.  The past baronet appears to have been cruel to his wife, who in her own turn betrayed him, so the reader wonders if there is a parallel with the present baronet and his wife.  The fantastic story of the Ghost\\'s Walk is effectively told, in the darkening house on a rainy day. Another clue as to the interconnectedness of Esther with the Dedlocks and the Chancery suit is dropped when Guppy has a moment of recognition with the portrait of Lady Dedlock.  The reader is left hanging as to what the significance of that could be, for the reader doesn\\'t know the exact age of Lady Dedlock, the but the possibility is tantalizingly dangled.  Guppy is enforced as an unintentionally rude, lower-middle-class character who tries to be polite, but is nevertheless earnest, clever, and unfailingly honest and direct.  He is a good foil to the machinations of Tulkinghorn, the stoicism of Lady Dedlock, and the rigidity of Sir Leicester and even of the good Mrs. Rouncewell. The recounting of the ghost story sets the stage for a significant event which takes place on the Ghost\\'s Walk, and also gives a feeling of impending doom.\"}',\n",
       " '{\"name\": \"Chapters 8-10\", \"url\": \"https://web.archive.org/web/20210421025427/https://www.gradesaver.com/bleak-house/study-guide/summary-chapters-8-10\", \"summary\": \"Esther and Mr. Jarndyce discuss the Chancery suit, and Esther leans that it is a hopeless muddle, and anything left of the great fortune disputed within it has been consumed by legal costs. The story of Tom Jarndyce is related again; we learn that Bleak House, once called Peaks, took its name during Tom Jarndyce\\'s lifetime because he allowed it to go to rack and ruin. The street of houses in London, which we will learn later is called Tom-all-Alone\\'s, is part of the suit also. Esther learns that Mr. Jarndyce, who begs her to call him Guardian, has a little room he retreats to when he is out of sorts called \\\\\"The Growlery.\\\\\" Mrs. Pardiggle and her five miserable sons arrive for a visit. Mrs. Pardiggle is a country version of Mrs. Jellyby, another obsessive and misguided philanthropist who neglects her children in favor of a fashionable charity. She takes the young people to a brickmaker\\'s hovel in the village, and there Ada and Esther witness not only the lives of poverty and filth and despair that the people there live, but also the death of the brickmaker\\'s baby in his mother\\'s lap. The girls are much moved, and Esther significantly covers the tiny corpse with her handkerchief. The young ladies are moved by the downtrodden, beaten brickmakers\\' wives comforting each other, and it is contrasted with their bluster and ineffectual do-gooding. They come back later to comfort Jenny. In Chapter 9 Richard is unsure what to do with his life. Esther and Jarndyce had discussed what he should do for a profession, and the two agree that to ask him what he would like to do would be best. But Richard cannot decide, and it becomes apparent that the spectre of the Chancery suit, though he claims to ignore it, holds a psychic hold on him. Mr. Boythorn has written Mr. Jandyce a letter, and he is coming for a visit. He arrives and proves to be a boisterous and agreeable companion. We learn that he was once to have been married, but his fiance \\\\\"died to him.\\\\\" The dispute over the right-of-way between Sir Leicester Dedlock and Boythorn, who are neighbors, is introduced, and Boythorn is voluble in his criticism of the baronet. However, Boythorn is fond of Lady Dedlock. Mr. Jarndyce writes to Sir Leicester Dedlock, who is a distant relative of Richard, to ask with help placing Richard in the world. He receives no likely help from that quarter. It becomes obvious to Esther that Ada and Richard have fallen in love. Mr. Guppy arrives at Bleak House on an errand for Kenge and Carboy\\'s. He proposes marriage to Esther, who firmly rejects him. In Chapter 10 Mr. and Mrs. Snagsby and their law-stationery shop in London are described. Mrs. Snagsby is an awful termagent, and Mr. Snagsby is timid and cowed. They have a maid, Guster, who is prone to fits. It is a pathetic description, for Mr. Snagsby appears to be a decent man. Mr. Tulkinghorn\\'s London lodgings are described, where \\\\\"lawyers lie like maggots in nuts\\\\\". Mr. Tulkinghorn goes to Snagsby\\'s shop to find out who copied out the paper of Jarndyce and Jarndyce in which Lady Dedlock took such an interest. The Coavinses sherrif\\'s officers offices, the firm in which Neckett the debt-collector for Skimpole employed, are nearby. Mr. Snagsby informs Mr. Tulkinghorn that a man called Nemo , who lives above Krook\\'s shop, is the copyist. Mr. Snagsby brings Mr. Tulkinghorn to Krook\\'s shop, and Mr. Tulkinghorn goes up to Nemo\\'s room, where he finds him lying on the bed with the scent of opium in the shabby room.\", \"analysis\": \"We find Esther settled comfortably at Bleak House, and exploring the possible directions of the four denizens therein.  An agreeable pattern of life is established, contrasting with the insitutional paralysis of Chancery and the dreary comfort of the Dedlocks. This peace, however, is soon unsettled by the intrusion of the  misguided Mrs. Pardiggle.  Her introduction serves the novel\\'s themes and plot both, as Esther sees the sadness of poverty and of infant death while, unbeknownst to her, her handkerchief plays a future plot role.  Esther even foreshadows a bit when she says that the handkerchief was going to end up in someone else\\'s bosom, rather than over the dead baby.  This leads the reader to wondering who that would be. The discussion of the Chancery suit in juxtaposition with the talk of Richard\\'s future foreshadows Richard\\'s ultimate doom.  It is clear that he is has undirected motivations other than his love for Ada. Mrs. Pardiggle parallels Mrs. Jellyby almost exactly, just in a different setting.  Her miserable children are not as attractive, however, as Peepy and Caddy Jellyby.  Mr Boythorn is a welcome change from Mrs. Pardiggle, and, in addition to providing diversion, he is yet another coincidental connection to the Dedlock household. Tulkinghorn and Snagsby\\'s obsession with documents contrasts strongly with the concerns of Esther and Jarndyce, who try remove themselves from the legal world of \\\\\"signs and tokens\\\\\" and concentrate on physical, daily, homey realities.  This sets up a sort of dualism: \\\\\"documents\\\\\" and \\\\\"signs\\\\\" on the one hand; domesticity and empathy on the other.  The most extreme representative of the first category is probably Nemo, whose very name  alludes to a total break with reality and a total absorption into the labyrinth of legalese and documents.  The aimless stupor of his life, copying and re-copying meaningless and useless legal reports, becomes concrete in his use of opium, which he purchases with the money he earns through copying.  This London world of documents, drugs, and poverty  is the opposite of the country world that Esther and Jarndyce inhabit.  No points for guessing which world Dickens prefers.\"}']"
      ]
     },
     "execution_count": 29,
     "metadata": {},
     "output_type": "execute_result"
    }
   ],
   "source": [
    "references"
   ]
  },
  {
   "cell_type": "code",
   "execution_count": 30,
   "metadata": {},
   "outputs": [
    {
     "data": {
      "text/plain": [
       "['\"name\": \"Chapter XXXI\", \"url\": \"https://web.archive.org/web/202103030303030/https://www.shmoop.com/study-guides/literature/the-sister-of-the-seven-years-old/summary/chapter-xxii\", \"summary\": \"The Lord Chancellor is sitting in Lincoln\\'s Inn Hall. Michaelmas is a snoring a snort, and he is a shivering in the streets. The narrator is a',\n",
       " '\"name\": \"Chapter XXXI\", \"url\": \"https://web.archive.org/web/202103030303030/https://www.shmoop.com/study-guides/literature/david-copperfield/summary/chapter-xxii\", \"summary\": \"Ada and Peepy are preparing for a walk. They are preparing for a walk. She is astonished by the fact that she is not tired, and that she is not tired. She is a bit tired, and she is a bit tired. She is',\n",
       " '\"name\": \"Chapter XXXI\", \"url\": \"https://web.archive.org/web/202103030303030/https://www.shmoop.com/study-guides/literature/david-copperfield/summary/chapter-xxii\", \"summary\": \"The night before, the sun sets and the sun sets. The sun sets and the sun sets. The sun sets and the sun shining. He is a little snorting a candle. He is a snorting, and he finds the \"soot\"']"
      ]
     },
     "execution_count": 30,
     "metadata": {},
     "output_type": "execute_result"
    }
   ],
   "source": [
    "predictions"
   ]
  },
  {
   "cell_type": "code",
   "execution_count": 13,
   "metadata": {},
   "outputs": [
    {
     "name": "stdout",
     "output_type": "stream",
     "text": [
      "ROUGE Results: {'rouge1': AggregateScore(low=Score(precision=0.6451612903225806, recall=0.031197301854974702, fmeasure=0.0596774193548387), mid=Score(precision=0.7038654918359218, recall=0.03607218580319185, fmeasure=0.06856918057677296), high=Score(precision=0.78125, recall=0.039761431411530816, fmeasure=0.0749063670411985)), 'rouge2': AggregateScore(low=Score(precision=0.29508196721311475, recall=0.01350210970464135, fmeasure=0.02584814216478191), mid=Score(precision=0.3153917029574314, recall=0.01593940829273807, fmeasure=0.030319426815217296), high=Score(precision=0.34920634920634913, recall=0.01791044776119403, fmeasure=0.03377110694183865)), 'rougeL': AggregateScore(low=Score(precision=0.5967741935483871, recall=0.02782462057335582, fmeasure=0.05322580645161292), mid=Score(precision=0.6265867682198327, recall=0.03221522446402069, fmeasure=0.061226875184067914), high=Score(precision=0.671875, recall=0.036779324055666, fmeasure=0.0692883895131086)), 'rougeLsum': AggregateScore(low=Score(precision=0.5967741935483871, recall=0.02782462057335582, fmeasure=0.05322580645161292), mid=Score(precision=0.6265867682198327, recall=0.03221522446402069, fmeasure=0.061226875184067914), high=Score(precision=0.6521267361111106, recall=0.036779324055666, fmeasure=0.0692883895131086))}\n"
     ]
    }
   ],
   "source": [
    "from datasets import load_metric\n",
    "\n",
    "# Load ROUGE\n",
    "rouge_metric = load_metric(\"rouge\",trust_remote_code=True)\n",
    "\n",
    "# Compute ROUGE scores\n",
    "rouge_results = rouge_metric.compute(predictions=predictions, references=references, use_stemmer=True)\n",
    "print(\"ROUGE Results:\", rouge_results)\n"
   ]
  },
  {
   "cell_type": "code",
   "execution_count": 17,
   "metadata": {},
   "outputs": [
    {
     "name": "stdout",
     "output_type": "stream",
     "text": [
      "BLEU Results: {'bleu': 0.0, 'precisions': [0.0, 0.0, 0.0, 0.0], 'brevity_penalty': 0.0, 'length_ratio': 0.0008782201405152225, 'translation_length': 3, 'reference_length': 3416}\n"
     ]
    }
   ],
   "source": [
    "# Compute BLEU scores\n",
    "from nltk.translate.bleu_score import corpus_bleu\n",
    "bleu_metric = load_metric(\"bleu\",trust_remote_code=True)\n",
    "\n",
    "# Tokenize references and predictions for BLEU\n",
    "tokenized_references = [[ref.split()] for ref in references]\n",
    "tokenized_predictions = [[pred.split()] for pred in predictions]\n",
    "\n",
    "# Compute BLEU score\n",
    "bleu_results = bleu_metric.compute(predictions=tokenized_predictions, references=tokenized_references)\n",
    "print(\"BLEU Results:\", bleu_results)\n"
   ]
  },
  {
   "cell_type": "code",
   "execution_count": 15,
   "metadata": {},
   "outputs": [
    {
     "name": "stderr",
     "output_type": "stream",
     "text": [
      "[nltk_data] Downloading package wordnet to\n",
      "[nltk_data]     C:\\Users\\emmanuelmoran\\AppData\\Roaming\\nltk_data...\n",
      "[nltk_data] Downloading package punkt to\n",
      "[nltk_data]     C:\\Users\\emmanuelmoran\\AppData\\Roaming\\nltk_data...\n",
      "[nltk_data]   Package punkt is already up-to-date!\n",
      "[nltk_data] Downloading package omw-1.4 to\n",
      "[nltk_data]     C:\\Users\\emmanuelmoran\\AppData\\Roaming\\nltk_data...\n"
     ]
    },
    {
     "name": "stdout",
     "output_type": "stream",
     "text": [
      "METEOR Results: {'meteor': 0.023737822454457606}\n"
     ]
    }
   ],
   "source": [
    "# Compute METEOR score\n",
    "meteor_metric = load_metric(\"meteor\",trust_remote_code=True)\n",
    "meteor_results = meteor_metric.compute(predictions=predictions, references=references)\n",
    "print(\"METEOR Results:\", meteor_results)\n"
   ]
  }
 ],
 "metadata": {
  "kernelspec": {
   "display_name": "llm-venv",
   "language": "python",
   "name": "python3"
  },
  "language_info": {
   "codemirror_mode": {
    "name": "ipython",
    "version": 3
   },
   "file_extension": ".py",
   "mimetype": "text/x-python",
   "name": "python",
   "nbconvert_exporter": "python",
   "pygments_lexer": "ipython3",
   "version": "3.12.4"
  }
 },
 "nbformat": 4,
 "nbformat_minor": 2
}
